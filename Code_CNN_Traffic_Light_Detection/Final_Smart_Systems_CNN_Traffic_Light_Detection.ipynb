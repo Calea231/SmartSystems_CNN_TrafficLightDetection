{
  "nbformat": 4,
  "nbformat_minor": 0,
  "metadata": {
    "colab": {
      "name": "Final_Smart_Systems_CNN_Traffic_Light_Detection.ipynb",
      "provenance": [],
      "collapsed_sections": [
        "nXx5ELF0X3DZ",
        "nTUQd_SBYXN6",
        "OEjpOHl6HHCm",
        "JtAgPHGoOcxQ",
        "CaI8vP26DzZW",
        "PWr-6K6sO3_3",
        "wkQmUNFnWWUi",
        "S4wW0YfdZA4v"
      ]
    },
    "kernelspec": {
      "name": "python3",
      "display_name": "Python 3"
    },
    "accelerator": "GPU"
  },
  "cells": [
    {
      "cell_type": "code",
      "metadata": {
        "id": "2RCLkKkwEB2Q",
        "colab_type": "code",
        "colab": {}
      },
      "source": [
        "\"\"\"Smart_Systems_CNN_Traffic_Light_Detection.ipynb: Chapter 7.\"\"\"\n",
        "\n",
        "__author__ = \"Marius Landmann\"\n",
        "__credits__ = \"Anna Dodik\"\n",
        "\n",
        "\n",
        "\"Other sources which helped writing the code: https://github.com/MariusLandmann/SmartSystems_CNN_TrafficLightDetection/blob/master/Sources/Links.docx\"\n",
        "\n",
        "# TensorFlow ≥2.0 is required\n",
        "%tensorflow_version 2.x\n",
        "!pip install --upgrade deeplearning2020 \n",
        "!pip install tensorflow_datasets\n",
        "!pip install --upgrade tensorflow_datasets\n",
        "!pip install tfds-nightly\n",
        "\n",
        "import tensorflow as tf\n",
        "from tensorflow import keras\n",
        "\n",
        "assert tf.__version__ >= \"2.0\"\n",
        "\n",
        "#Benötigt die bereitgestellte GPU von Colab -> Test ob diese benutzt wird\n",
        "if not tf.config.list_physical_devices('GPU'):\n",
        "    print(\"No GPU was detected. CNNs can be very slow without a GPU.\")\n",
        "    if IS_COLAB:\n",
        "        print(\"Go to Runtime > Change runtime and select a GPU hardware accelerator.\")\n",
        "\n",
        "\n",
        "##Importieren von benötigten Tools, Layertypen\n",
        "\n",
        "from tensorflow import keras\n",
        "import numpy as np\n",
        "\n",
        "from tensorflow.keras.layers import Dense, Activation, Input, \\\n",
        "  Dropout, Conv2D, MaxPooling2D, Flatten\n",
        "from tensorflow.keras.models import Model\n",
        "import matplotlib.pyplot as plt\n",
        "from scipy.stats import reciprocal\n",
        "from sklearn.model_selection import GridSearchCV, RandomizedSearchCV\n",
        "!pip install absl-py\n",
        "from absl import app\n",
        "from absl import flags\n",
        "import os\n"
      ],
      "execution_count": null,
      "outputs": []
    },
    {
      "cell_type": "markdown",
      "metadata": {
        "id": "nXx5ELF0X3DZ",
        "colab_type": "text"
      },
      "source": [
        "# Cloning and Pulling the GitHub repository"
      ]
    },
    {
      "cell_type": "code",
      "metadata": {
        "id": "ke4Omb3jyNeB",
        "colab_type": "code",
        "colab": {}
      },
      "source": [
        "# https://towardsdatascience.com/deeppicar-part-6-963334b2abe0\n",
        "# Forked repository\n",
        "repo_url = 'https://github.com/MariusLandmann/SmartSystems_CNN_TrafficLightDetection'\n",
        "\n",
        "#Clone repository\n",
        "%cd /content\n",
        "\n",
        "repo_dir_path = os.path.abspath(os.path.join('.', os.path.basename(repo_url)))\n",
        "\n",
        "!git clone {repo_url}\n",
        "%cd {repo_dir_path}\n",
        "\n",
        "print('Pull it')\n",
        "!git pull\n",
        "\n",
        "\n",
        "##prepare training data --> from deeppicar\n",
        "#installing packages for it\n",
        "%cd /content\n",
        "!git clone --quiet https://github.com/tensorflow/models.git\n",
        "\n",
        "!apt-get install -qq protobuf-compiler python-pil python-lxml python-tk\n",
        "\n",
        "!pip install -q Cython contextlib2 pillow lxml matplotlib\n",
        "\n",
        "!pip install -q pycocotools\n",
        "\n",
        "%cd /content/models/research\n",
        "!protoc object_detection/protos/*.proto --python_out=.\n",
        "\n",
        "os.environ['PYTHONPATH'] += ':/content/models/research/:/content/models/research/slim/'"
      ],
      "execution_count": null,
      "outputs": []
    },
    {
      "cell_type": "markdown",
      "metadata": {
        "id": "nTUQd_SBYXN6",
        "colab_type": "text"
      },
      "source": [
        "# Loading the Dataset\n",
        "& convert the xml files to a single csv file\n",
        "\n",
        "& generate the TFRecord files\n",
        "\n",
        "**Wichtig:** Die zwei Codes aus meinem GitHub benutzen! Eine lange Fehlersuche könnte ansonsten die Folge sein. generate_tfrecord.py findet man zwar online auf anderen Seiten allerdings sind diese auf Tensorflow 1.xx ausgelegt. Ich musste den Code teilweise umschreiben, damit er mit Tensorflow 2.xx verwendet werden kann"
      ]
    },
    {
      "cell_type": "code",
      "metadata": {
        "id": "xPKYmpI-y2L6",
        "colab_type": "code",
        "colab": {}
      },
      "source": [
        "#(https://towardsdatascience.com/deeppicar-part-6-963334b2abe0)\n",
        "repo_dir_path = '/content/SmartSystems_CNN_TrafficLightDetection'\n",
        "%cd {repo_dir_path}/traffic_light_detection\n",
        "\n",
        "\n",
        "\n",
        "# Convert train folder annotation xml files to a single csv file,\n",
        "# generate the `label_map.pbtxt` file to `data/` directory as well.\n",
        "!python code/xml_to_csv.py -i data/train -o data/annotations/train_labels.csv -l data/annotations\n",
        "\n",
        "# Convert test folder annotation xml files to a single csv.\n",
        "!python code/xml_to_csv.py -i data/test -o data/annotations/test_labels.csv\n",
        "\n",
        "\n",
        "\n",
        "# Generate `train.record`\n",
        "!python code/generate_tfrecord.py --csv_input=data/annotations/train_labels.csv --output_path=data/annotations/train.record --img_path=data/train --label_map data/annotations/label_map.pbtxt\n",
        "\n",
        "# Generate `test.record`\n",
        "!python code/generate_tfrecord.py --csv_input=data/annotations/test_labels.csv --output_path=data/annotations/test.record --img_path=data/test --label_map data/annotations/label_map.pbtxt\n",
        "\n",
        "\n",
        "test_record_fname = repo_dir_path + '/traffic_light_detection/data/annotations/test.record'\n",
        "train_record_fname = repo_dir_path + '/traffic_light_detection/data/annotations/train.record'\n",
        "label_map_pbtxt_fname = repo_dir_path + '/traffic_light_detection/data/annotations/label_map.pbtxt'\n",
        "\n",
        "\n",
        "print(type(test_record_fname))\n",
        "print(len(test_record_fname))\n",
        "print(test_record_fname)\n",
        "#!cat data/annotations/train_labels.csv\n",
        "#!cat {label_map_pbtxt_fname}\n",
        "#!cat {train_record_fname}"
      ],
      "execution_count": null,
      "outputs": []
    },
    {
      "cell_type": "code",
      "metadata": {
        "id": "leWZYKHCOiQN",
        "colab_type": "code",
        "colab": {}
      },
      "source": [
        "#Recorddatei öffnen\n",
        "file_testrecord=open(train_record_fname,'rb')\n",
        "print(file_testrecord.readlines(2000))"
      ],
      "execution_count": null,
      "outputs": []
    },
    {
      "cell_type": "markdown",
      "metadata": {
        "id": "OEjpOHl6HHCm",
        "colab_type": "text"
      },
      "source": [
        "# Ansatz X\n",
        "Standart CNN Architektur gewählt, mit dem Ziel unser CNN mit unserem Datensatz im TFRecordformat zu trainieren.\n",
        "\n",
        "Das Problem: kann bis jetzt nicht mit dem TFRecordformat trainiert werden, obwohl das Netz selber mit anderen Datensätzen (keine TFRecord files) funtionsfähig ist\n",
        "\n",
        "Vermutung: Man braucht andere Funktionen wenn man den TFRecorddatensatz benutzen will"
      ]
    },
    {
      "cell_type": "code",
      "metadata": {
        "id": "l-qoj7lqHHqq",
        "colab_type": "code",
        "colab": {}
      },
      "source": [
        "###Architektur\n",
        "\n",
        "\n",
        "\n",
        "# model\n",
        "batch_size = 32\n",
        "learning_rate=0.001\n",
        "momentum=0.9\n",
        "dense_neurons=300\n",
        "n_filters=300\n",
        "first_kernel_size=(7,7)\n",
        "\n",
        "activation='elu'\n",
        "\n",
        "# input size of images with RGB color\n",
        "input_layer = Input(shape=(640, 480, 3))\n",
        "\n",
        "# Convolutional Neural Network\n",
        "# It consists of 5 stacked Convolutional Layers with Max Pooling\n",
        "model = Conv2D(\n",
        "    filters=256,\n",
        "    kernel_size=(7,7),\n",
        "    activation=activation\n",
        ")(input_layer)\n",
        "model = MaxPooling2D((2,2))(model)\n",
        "\n",
        "model = Conv2D(\n",
        "    filters = 256, \n",
        "    kernel_size=(3,3), \n",
        "    activation=activation\n",
        ")(model)\n",
        "model = MaxPooling2D((2,2))(model)\n",
        "\n",
        "model = Conv2D(\n",
        "    filters = n_filters, \n",
        "    kernel_size=(3,3), \n",
        "    activation=activation\n",
        ")(model)\n",
        "model = MaxPooling2D((2,2))(model)\n",
        "\n",
        "model = Conv2D(\n",
        "    filters = n_filters, \n",
        "    kernel_size=(3,3), \n",
        "    activation=activation\n",
        ")(model)\n",
        "model = MaxPooling2D((2,2))(model)\n",
        "\n",
        "model = Conv2D(filters = n_filters, \n",
        "  kernel_size=(3,3), \n",
        "  activation=activation, \n",
        "  padding='same'\n",
        ")(model)\n",
        "model = MaxPooling2D((2,2))(model)\n",
        "\n",
        "model = Conv2D(filters = n_filters, \n",
        "  kernel_size=(3,3), \n",
        "  activation=activation, \n",
        "  padding='same'\n",
        ")(model)\n",
        "model = MaxPooling2D((2,2))(model)\n",
        "\n",
        "model = Conv2D(filters = n_filters, \n",
        "  kernel_size=(3,3), \n",
        "  activation=activation, \n",
        "  padding='same'\n",
        ")(model)\n",
        "\n",
        "# Fully-Connected-Classifier\n",
        "model = Flatten()(model)\n",
        "model = Dense(\n",
        "    dense_neurons,\n",
        "    activation=activation\n",
        ")(model)\n",
        "\n",
        "model = Dense(\n",
        "    dense_neurons / 2,\n",
        "    activation='tanh'\n",
        ")(model)\n",
        "\n",
        "# Output Layer\n",
        "output = Dense(10, activation=\"softmax\")(model)\n",
        "\n",
        "CNN_model = Model(input_layer, output)\n",
        "\n",
        "# Compiling model\n",
        "optimizer = keras.optimizers.SGD(lr=learning_rate, momentum=momentum)\n",
        "CNN_model.compile(\n",
        "    loss=\"sparse_categorical_crossentropy\",\n",
        "    optimizer=optimizer,\n",
        "    metrics=[\"accuracy\"]\n",
        ")\n",
        "CNN_model.summary()\n",
        "\n",
        "\n",
        "\n",
        "\n",
        "#ALLES AUSKLAMMERN: markieren -> strg+shift+7\n",
        "\n",
        "#!cat {test_record_fname}\n",
        "#!cat {train_record_fname}\n",
        "\n",
        "# Train the model\n",
        "history2 = CNN_model.fit(\n",
        "    train_record_fname,\n",
        "    epochs=1,\n",
        "    validation_data= test_record_fname\n",
        "    \n",
        ")\n",
        "\n",
        "\n",
        "\n",
        "\n",
        "# model.fit(\n",
        "#         x=train_record_fname,\n",
        "#         #steps_per_epoch=1281167 // batch_size,\n",
        "#         epochs=1\n",
        "#         validation_data=test_record_fname,\n",
        "#         #validation_steps=50000 // batch_size,\n",
        "#         #callbacks=[learning_rate, model_ckpt, tensorboard],\n",
        "#         # The following doesn't seem to help in terms of speed.\n",
        "#         # use_multiprocessing=True, workers=4,\n",
        "#         #epochs=epochs\n",
        "#         )\n",
        "\n",
        "\n",
        "\n",
        "\n"
      ],
      "execution_count": null,
      "outputs": []
    },
    {
      "cell_type": "markdown",
      "metadata": {
        "id": "JtAgPHGoOcxQ",
        "colab_type": "text"
      },
      "source": [
        "#Eine komplexere Archetektur, welche normalerweise funktionieren würde:"
      ]
    },
    {
      "cell_type": "code",
      "metadata": {
        "id": "FZ3PWrMFOloa",
        "colab_type": "code",
        "colab": {}
      },
      "source": [
        "# tf.keras.Sequential(\n",
        "#     layers=None, name=None\n",
        "# )\n",
        "\n",
        "\n",
        "\n",
        "\n",
        "\n",
        "model = keras.Sequential()\n",
        "model.add(Conv2D(64,(3,3),activation='relu',input_shape=(640,480,3), padding='same'))\n",
        "model.add(Conv2D(64,(3,3),activation='relu',padding='same'))\n",
        "model.add(Conv2D(64,(3,3),activation='relu',padding='same'))\n",
        "model.add(MaxPooling2D((2,2),strides=(2,2)))\n",
        "\n",
        "model.add(Conv2D(128,(3,3),activation='relu',padding='same'))\n",
        "model.add(Conv2D(128,(3,3),activation='relu',padding='same'))\n",
        "model.add(MaxPooling2D((2,2),strides=(2,2)))\n",
        "\n",
        "model.add(Conv2D(256,(3,3),activation='relu',padding='same'))\n",
        "model.add(Conv2D(256,(3,3),activation='relu',padding='same'))\n",
        "model.add(Conv2D(256,(3,3),activation='relu',padding='same'))\n",
        "model.add(MaxPooling2D((2,2),strides=(2,2)))\n",
        "\n",
        "model.add(Conv2D(512,(3,3),activation='relu',padding='same'))\n",
        "model.add(Conv2D(512,(3,3),activation='relu',padding='same'))\n",
        "model.add(Conv2D(512,(3,3),activation='relu',padding='same'))\n",
        "model.add(MaxPooling2D((2,2),strides=(2,2)))\n",
        "\n",
        "model.add(Flatten())\n",
        "model.add(Dense(600,activation='relu'))\n",
        "model.add(Dense(600,activation='relu'))\n",
        "model.add(Dense(2,activation='softmax'))\n",
        "\n",
        "model.compile(optimizer='adam',loss='sparse_categorical_crossentropy',\n",
        "metrics=['accuracy'])\n",
        "\n",
        "model.fit(train_record_fname,test_record_fname,epochs=2)"
      ],
      "execution_count": null,
      "outputs": []
    },
    {
      "cell_type": "markdown",
      "metadata": {
        "id": "CaI8vP26DzZW",
        "colab_type": "text"
      },
      "source": [
        "# Neuer Ansatz A)\n",
        "Eine andere Herangehensweise mit anderen Funktionen und Befehlen. Könnte sich rentieren das Netz in diese Richtung auszubauen bzw Betandteile zu übernehmen.\n",
        "\n",
        "---wurde noch nicht auf das bestehende Netz angepasst---"
      ]
    },
    {
      "cell_type": "code",
      "metadata": {
        "id": "lEZpmU0MNhxw",
        "colab_type": "code",
        "colab": {}
      },
      "source": [
        "### A) Neuer Ansatz CNN_model https://androidkt.com/feeding-your-own-data-set-into-the-cnn-model-in-tensorflow/\n",
        "labels=label_map_pbtxt_fname\n",
        "\n",
        "\n",
        "\n",
        "_DEFAULT_IMAGE_SIZE = 252\n",
        "_NUM_CHANNELS = 3\n",
        "_NUM_CLASSES = 4\n",
        "\"\"\"Model function for CNN.\"\"\"\n",
        "def cnn_model_fn(features, labels, mode):\n",
        "    # Input Layer\n",
        "    input_layer = tf.reshape(features[\"image\"], [-1, _DEFAULT_IMAGE_SIZE, _DEFAULT_IMAGE_SIZE, 3])\n",
        "    # Convolutional Layer #1\n",
        "    conv1 = tf.layers.conv2d(\n",
        "        inputs=input_layer,\n",
        "        filters=32,\n",
        "        kernel_size=[5, 5],\n",
        "        padding=\"same\",\n",
        "        activation=tf.nn.relu)\n",
        "    # Pooling Layer #1\n",
        "    pool1 = tf.layers.max_pooling2d(inputs=conv1, pool_size=[2, 2], strides=2)\n",
        "    # Convolutional Layer #2 and Pooling Layer #2\n",
        "    conv2 = tf.layers.conv2d(\n",
        "        inputs=pool1,\n",
        "        filters=64,\n",
        "        kernel_size=[5, 5],\n",
        "        padding=\"same\",\n",
        "        activation=tf.nn.relu)\n",
        "    pool2 = tf.layers.max_pooling2d(inputs=conv2, pool_size=[2, 2], strides=2)\n",
        "    # Dense Layer\n",
        "    pool2_flat = tf.reshape(pool2, [-1, 126 * 126 * 64])\n",
        "    dense = tf.layers.dense(inputs=pool2_flat, units=1024, activation=tf.nn.relu)\n",
        "    dropout = tf.layers.dropout(\n",
        "        inputs=dense, rate=0.4, training=mode == tf.estimator.ModeKeys.TRAIN)\n",
        "    # Logits Layer\n",
        "    logits = tf.layers.dense(inputs=dropout, units=2)\n"
      ],
      "execution_count": null,
      "outputs": []
    },
    {
      "cell_type": "code",
      "metadata": {
        "id": "w1zu0mUfPY4Z",
        "colab_type": "code",
        "colab": {}
      },
      "source": [
        "### A) Neuer Ansatz  Generate Predictions\n",
        "def cnn_model_fn(features, labels, mode):\n",
        "    predictions = {\n",
        "        # Generate predictions (for PREDICT and EVAL mode)\n",
        "        \"classes\": tf.argmax(input=logits, axis=1),\n",
        "        # Add `softmax_tensor` to the graph. It is used for PREDICT and by the\n",
        "        # `logging_hook`.\n",
        "        \"probabilities\": tf.nn.softmax(logits, name=\"softmax_tensor\")\n",
        "    }\n",
        "    if mode == tf.estimator.ModeKeys.PREDICT:\n",
        "        return tf.estimator.EstimatorSpec(mode=mode, predictions=predictions)\n",
        "\n",
        "#Calculate Loss\n",
        "#Calculate Loss (for both TRAIN and EVAL modes)\n",
        "onehot_labels = tf.one_hot(indices=tf.cast(labels, tf.int32), depth=2)\n",
        "loss = tf.losses.softmax_cross_entropy(onehot_labels=onehot_labels, logits=logits)\n",
        "\n",
        "\n",
        "\n",
        "#Training Operation\n",
        "if mode == tf.estimator.ModeKeys.TRAIN:\n",
        "    optimizer = tf.train.GradientDescentOptimizer(learning_rate=0.001)\n",
        "    train_op = optimizer.minimize(\n",
        "            loss=loss,\n",
        "            global_step=tf.train.get_global_step())\n",
        "    return tf.estimator.EstimatorSpec(mode=mode, loss=loss, train_op=train_op)\n",
        "\n",
        "\n",
        "\n",
        "\n",
        "#Add evaluation metrics\n",
        "eval_metric_ops = {\n",
        "        \"accuracy\": tf.metrics.accuracy(\n",
        "            labels=labels, predictions=predictions[\"classes\"])}\n",
        "return tf.estimator.EstimatorSpec(\n",
        "        mode=mode, loss=loss, eval_metric_ops=eval_metric_ops)"
      ],
      "execution_count": null,
      "outputs": []
    },
    {
      "cell_type": "code",
      "metadata": {
        "id": "Mu0dswz2RL3l",
        "colab_type": "code",
        "colab": {}
      },
      "source": [
        "### A) Neuer Ansatz Benutzen der trainingsdaten bzw load them\n",
        "def parse_record(raw_record, is_training):\n",
        "    \"\"\"Parse an ImageNet record from `value`.\"\"\"\n",
        "    keys_to_features = {\n",
        "        'image/encoded':\n",
        "            tf.FixedLenFeature((), tf.string, default_value=''),\n",
        "        'image/format':\n",
        "            tf.FixedLenFeature((), tf.string, default_value='jpeg'),\n",
        "        'image/class/label':\n",
        "            tf.FixedLenFeature([], dtype=tf.int64, default_value=-1),\n",
        "        'image/class/text':\n",
        "            tf.FixedLenFeature([], dtype=tf.string, default_value=''),\n",
        "    }\n",
        "    parsed = tf.parse_single_example(raw_record, keys_to_features)\n",
        "    image = tf.image.decode_image(\n",
        "        tf.reshape(parsed['image/encoded'], shape=[]),\n",
        "        _NUM_CHANNELS)\n",
        "    # Note that tf.image.convert_image_dtype scales the image data to [0, 1).\n",
        "    image = tf.image.convert_image_dtype(image, dtype=tf.float32)\n",
        "    image = vgg_preprocessing.preprocess_image(\n",
        "        image=image,\n",
        "        output_height=_DEFAULT_IMAGE_SIZE,\n",
        "        output_width=_DEFAULT_IMAGE_SIZE,\n",
        "        is_training=is_training)\n",
        "    label = tf.cast(\n",
        "        tf.reshape(parsed['image/class/label'], shape=[]),\n",
        "        dtype=tf.int32)\n",
        "    return {\"image\": image}, label"
      ],
      "execution_count": null,
      "outputs": []
    },
    {
      "cell_type": "code",
      "metadata": {
        "id": "tdYUNJSdxef6",
        "colab_type": "code",
        "colab": {}
      },
      "source": [
        "### A) Neuen Ansatz testen\n",
        "\n",
        "###https://androidkt.com/feeding-your-own-data-set-into-the-cnn-model-in-tensorflow/\n",
        "\n",
        "\n",
        "##Input functions\n",
        "def input_fn(is_training, filenames, batch_size, num_epochs=1, num_parallel_calls=1):\n",
        "    dataset = tf.data.TFRecordDataset(filenames)\n",
        "    if is_training:\n",
        "        dataset = dataset.shuffle(buffer_size=1500)\n",
        "    dataset = dataset.map(lambda value: parse_record(value, is_training),\n",
        "                          num_parallel_calls=num_parallel_calls)\n",
        "    dataset = dataset.shuffle(buffer_size=10000)\n",
        "    dataset = dataset.batch(batch_size)\n",
        "    dataset = dataset.repeat(num_epochs)\n",
        "    iterator = dataset.make_one_shot_iterator()\n",
        "    features, labels = iterator.get_next()\n",
        "    return features, labels\n",
        "def train_input_fn(file_path):\n",
        "    return input_fn(True, file_path, 100, None, 10)\n",
        "def validation_input_fn(file_path):\n",
        "    return input_fn(False, file_path, 50, 1, 1)"
      ],
      "execution_count": null,
      "outputs": []
    },
    {
      "cell_type": "code",
      "metadata": {
        "id": "23LoqmP_Myom",
        "colab_type": "code",
        "colab": {}
      },
      "source": [
        "### A) Neuer Ansatz Training\n",
        "\n",
        "#Create Estimator\n",
        "classifier = tf.estimator.Estimator(model_fn=cnn_model_fn, model_dir=\"/tmp/convnet_model\")\n"
      ],
      "execution_count": null,
      "outputs": []
    },
    {
      "cell_type": "markdown",
      "metadata": {
        "id": "PWr-6K6sO3_3",
        "colab_type": "text"
      },
      "source": [
        "# Ansatz mit Transferlearning\n",
        "Dieser Ansatz sollte sicher funktionieren, allerdings wird hierfür ein bereits trainiertes veröffentlichtes CNN benutz. Eine gute Anleitung findet man hier: https://towardsdatascience.com/deeppicar-part-6-963334b2abe0\n",
        "\n",
        "Dies war allerdings nicht Bestandteil des Kurses, da wir den Aufbau und die Funktionsweise des neuronalen Netzes näherbringen wollten. Dies wäre beim Transferlearning nicht möglich gewesen, da die Hauptbestandteile eines fremden bestehenden Netzes einfach benutzt werden würde. Dieses wurde auch schon teilweise über mehrere Wochen durchgehend trainiert.\n",
        "\n",
        "**-->** Die beste Möglichkeit wenn der lehrende Aspekt außer Acht gelassen werden würde\n",
        "\n",
        "Wichtig: das CNN Modell muss allerdings \"quantized\" sein um Daten im TFRecordformat verarbeiten zu können"
      ]
    },
    {
      "cell_type": "code",
      "metadata": {
        "id": "Lj_zC_OCxygZ",
        "colab_type": "code",
        "colab": {}
      },
      "source": [
        "# model configs are from Model Zoo github: \n",
        "# https://github.com/tensorflow/models/blob/master/research/object_detection/g3doc/detection_model_zoo.md#coco-trained-models\n",
        "\n",
        "### Empfohlenes Model für die TPU \n",
        "    #http://download.tensorflow.org/models/object_detection/ssd_mobilenet_v2_quantized_300x300_coco_2019_01_03.tar.gz\n",
        "   'ssd_mobilenet_v2_quantized': {\n",
        "       'model_name': 'ssd_mobilenet_v2_quantized_300x300_coco_2019_01_03',\n",
        "       'pipeline_file': 'ssd_mobilenet_v2_quantized_300x300_coco.config',\n",
        "       'batch_size': 12\n",
        "    },\n",
        "    \n",
        "\n",
        "\n",
        "\n",
        "\n",
        "# Pick the model you want to use\n",
        "# Select a model in `MODELS_CONFIG`.\n",
        "# Note: for Edge TPU, you have to:\n",
        "# 1) start with a pretrained model from model zoo, such as above 4\n",
        "# 2) Must be a quantized model, which reduces the model size significantly\n",
        "\n",
        "\n",
        "# TPU# selected_model = 'ssd_mobilenet_v2_quantized'\n",
        "\n",
        "# Name of the object detection model to use.\n",
        "MODEL = MODELS_CONFIG[selected_model]['model_name']\n",
        "\n",
        "# Name of the pipline file in tensorflow object detection API.\n",
        "pipeline_file = MODELS_CONFIG[selected_model]['pipeline_file']\n",
        "\n",
        "# Training batch size fits in Colabe's Tesla K80 GPU memory for selected model.\n",
        "batch_size = MODELS_CONFIG[selected_model]['batch_size']\n",
        "\n",
        "\n",
        "\n",
        "\n",
        "preprocess: shuffle and resize the images to a uniform size\n",
        "def preprocess(image, label):\n",
        "   resized_image = tf.image.resize(image, [640, 480])\n",
        "   return resized_image, label\n",
        "\n",
        "\n",
        "batch_size = 32\n",
        "print('shape of training data before preprocessing: ', train_data)\n",
        "\n",
        "\n",
        "\n",
        "train_data = train_data.map(preprocess) \\\n",
        " .batch(batch_size).prefetch(1)\n",
        "test_data = test_data.map(preprocess) \\\n",
        " .batch(batch_size).prefetch(1)\n",
        "print('shape of training data after preprocessing: ', train_data)\n",
        "print('shape of test data after preprocessing: ', test_data)\n",
        "\n",
        "\n",
        "\n",
        "\n",
        "train_data = train_data.shuffle(1000)\n"
      ],
      "execution_count": null,
      "outputs": []
    },
    {
      "cell_type": "markdown",
      "metadata": {
        "id": "wkQmUNFnWWUi",
        "colab_type": "text"
      },
      "source": [
        "# Saving and Recreating the trained model"
      ]
    },
    {
      "cell_type": "code",
      "metadata": {
        "id": "ZtFY9yPHvWaU",
        "colab_type": "code",
        "colab": {}
      },
      "source": [
        "## Save the whole model\n",
        "model.save('./trained_CNN/Smart_Truck/my_model_tld1.h5')"
      ],
      "execution_count": null,
      "outputs": []
    },
    {
      "cell_type": "code",
      "metadata": {
        "id": "W1MXKLJsOUJu",
        "colab_type": "code",
        "colab": {}
      },
      "source": [
        "## Recreate whole model\n",
        "new_model=keras.models.load_model('./trained_CNN/Smart_Truck/my_model_tld1.h5')\n",
        "new_model.summary()"
      ],
      "execution_count": null,
      "outputs": []
    },
    {
      "cell_type": "code",
      "metadata": {
        "id": "prUteUyOYFmL",
        "colab_type": "code",
        "colab": {}
      },
      "source": [
        "## Save the weights\n",
        "model.save_weights('./trained_CNN/Smart_Truck/my_weights_tld1.h5')"
      ],
      "execution_count": null,
      "outputs": []
    },
    {
      "cell_type": "code",
      "metadata": {
        "id": "fKWz5r2zYGIB",
        "colab_type": "code",
        "colab": {}
      },
      "source": [
        "## Restore the weights\n",
        "model=create_model()\n",
        "model.load_weights('./trained_CNN/Smart_Truck/my_weights_tld1.h5')"
      ],
      "execution_count": null,
      "outputs": []
    },
    {
      "cell_type": "markdown",
      "metadata": {
        "id": "S4wW0YfdZA4v",
        "colab_type": "text"
      },
      "source": [
        "# DOWNLOAD created files\n",
        "In this case downloading the previously created model.\n",
        "\n",
        "Steps for downloading files manually: Anzeigen -> Inhalt -> Dateien (you can also display and download everything generated)."
      ]
    },
    {
      "cell_type": "code",
      "metadata": {
        "id": "Y9LgNdNuZOjA",
        "colab_type": "code",
        "colab": {}
      },
      "source": [
        "from google.colab import files\n",
        "files.download('./trained_CNN/Smart_Truck/my_model_tld1.h5')"
      ],
      "execution_count": null,
      "outputs": []
    }
  ]
}